{
 "cells": [
  {
   "cell_type": "markdown",
   "id": "fitted-burke",
   "metadata": {},
   "source": [
    "# **Linear Algebra** in Python"
   ]
  },
  {
   "cell_type": "markdown",
   "id": "threatened-nevada",
   "metadata": {},
   "source": [
    "Resource: *University of British Columbia*\n",
    "- https://www.math.ubc.ca/~pwalls/math-python/linear-algebra/solving-linear-systems/"
   ]
  },
  {
   "cell_type": "code",
   "execution_count": 2,
   "id": "automotive-petersburg",
   "metadata": {},
   "outputs": [],
   "source": [
    "import numpy as np\n",
    "import matplotlib.pyplot as plt\n",
    "import scipy.linalg as la\n",
    "%matplotlib inline"
   ]
  },
  {
   "cell_type": "markdown",
   "id": "logical-messenger",
   "metadata": {},
   "source": [
    "In matrix notation, a linear system is $A \\mathbf{x}= \\mathbf{b}$ where\n",
    "\n",
    "$$ A = \\begin{bmatrix} a_{0,0} & a_{0,1} & \\cdots & a_{0,n} \\\\ a_{1,0} & a_{1,1} & \\cdots & a_{1,n} \\\\ \\vdots & & & \\vdots \\\\ a_{m,0} & a_{m,1} & \\cdots & a_{m,n} \\\\ \\end{bmatrix} \\ \\ , \\ \\ \\mathbf{x} = \\begin{bmatrix} x_0 \\\\ x_1 \\\\ \\vdots \\\\ x_n \\end{bmatrix} \\ \\ , \\ \\ \\mathbf{b} = \\begin{bmatrix} b_0 \\\\ b_1 \\\\ \\vdots \\\\ b_m \\end{bmatrix} $$"
   ]
  },
  {
   "cell_type": "markdown",
   "id": "bridal-jonathan",
   "metadata": {},
   "source": [
    "## Solving Linear Systems "
   ]
  },
  {
   "cell_type": "code",
   "execution_count": 5,
   "id": "defensive-delicious",
   "metadata": {},
   "outputs": [
    {
     "name": "stdout",
     "output_type": "stream",
     "text": [
      "[[ 1  1  2]\n",
      " [-1  3  1]\n",
      " [ 0  5  2]]\n",
      "\n",
      " [[1 0 3]\n",
      " [0 1 0]\n",
      " [0 0 1]]\n"
     ]
    }
   ],
   "source": [
    "A = np.array([[1,1,2],\n",
    "              [-1,3,1],\n",
    "              [0,5,2]])\n",
    "print(A)\n",
    "\n",
    "E1 = np.array([[1,0,3],\n",
    "               [0,1,0],\n",
    "               [0,0,1]])\n",
    "print('\\n',E1) "
   ]
  },
  {
   "cell_type": "markdown",
   "id": "preceding-review",
   "metadata": {},
   "source": [
    "To multiply $k$ times row $i$ in a matrix $A$, we multiply $A$ by the matrix $E$ where $E$ is equal to the identity matrix except the $,i,j$ entry is $E_{i,i} = k$. \n",
    "\n",
    "For example, if $A$ is 3 by 3 and we want to multiply row 1 by -2 then\n",
    "\n",
    "$$ E_2 = \\begin{bmatrix} 1 & 0 & 0 \\\\ 0 & -2 & 0 \\\\ 0 & 0 & 1 \\end{bmatrix} $$"
   ]
  },
  {
   "cell_type": "code",
   "execution_count": 9,
   "id": "directed-pattern",
   "metadata": {},
   "outputs": [
    {
     "name": "stdout",
     "output_type": "stream",
     "text": [
      "[[ 1  0  0]\n",
      " [ 0 -2  0]\n",
      " [ 0  0  1]]\n",
      "\n",
      " E2@A\n",
      " [[ 1  1  2]\n",
      " [ 2 -6 -2]\n",
      " [ 0  5  2]]\n"
     ]
    }
   ],
   "source": [
    "E2 = np.array([[1,0,0],[0,-2,0],[0,0,1]])\n",
    "print(E2)\n",
    "\n",
    "# multiply each row by -2, using the @\n",
    "print('\\n E2@A\\n',E2@A)"
   ]
  },
  {
   "cell_type": "markdown",
   "id": "angry-journey",
   "metadata": {},
   "source": [
    "For example, if $A$ is 3 by 3 and we want to switch row 1 and row 2 then\n",
    "\n",
    "$$ E^3 = \\begin{bmatrix} 1 & 0 & 0 \\\\ 0 & 0 & 1 \\\\ 0 & 1 & 0 \\end{bmatrix} $$"
   ]
  },
  {
   "cell_type": "code",
   "execution_count": 12,
   "id": "musical-honey",
   "metadata": {},
   "outputs": [
    {
     "name": "stdout",
     "output_type": "stream",
     "text": [
      "[[1. 0. 0.]\n",
      " [0. 1. 0.]\n",
      " [0. 0. 1.]]\n",
      "\n",
      " E3@A\n",
      " [[ 1.  1.  2.]\n",
      " [-1.  3.  1.]\n",
      " [ 0.  5.  2.]]\n"
     ]
    }
   ],
   "source": [
    "# instead of typing out your array for Idnetity matrix\n",
    "# use the np.eye() function\n",
    "\n",
    "E3 = np.eye(3)\n",
    "print(E3)\n",
    "\n",
    "# matrix multiplication\n",
    "print('\\n E3@A\\n', E3@A)"
   ]
  },
  {
   "cell_type": "markdown",
   "id": "instrumental-cambridge",
   "metadata": {},
   "source": [
    "write a function called add_rows which takes input parameters $A$, $k$, $i$ and $j$ and returns the NumPy array resulting from adding $k$ times row $j$ to row $i$ in the matrix $A$. \n",
    "\n",
    "If $i=j$, then let's say that the function scales row $i$ by $k+1$ since this would be the result of $k$ times row $i$ added to row $i$."
   ]
  },
  {
   "cell_type": "code",
   "execution_count": 13,
   "id": "capital-circumstances",
   "metadata": {},
   "outputs": [],
   "source": [
    "def add_row(A,k,i,j):\n",
    "    \"Add k times row j to row i in matrix A.\"\n",
    "    n = A.shape[0]\n",
    "    E = np.eye(n)\n",
    "    if i == j:\n",
    "        E[i,i] = k + 1\n",
    "    else:\n",
    "        E[i,j] = k\n",
    "    return E @ A"
   ]
  },
  {
   "cell_type": "code",
   "execution_count": 19,
   "id": "advanced-assumption",
   "metadata": {},
   "outputs": [
    {
     "name": "stdout",
     "output_type": "stream",
     "text": [
      "[[41  9]\n",
      " [48 29]]\n"
     ]
    },
    {
     "data": {
      "text/plain": [
       "array([[89., 38.],\n",
       "       [48., 29.]])"
      ]
     },
     "execution_count": 19,
     "metadata": {},
     "output_type": "execute_result"
    }
   ],
   "source": [
    "# let's generate random values for a 2x2 matrix \n",
    "# \n",
    "M = np.random.randint(1,50,(2,2))\n",
    "print(M)\n",
    "\n",
    "# generate random values ofr k,i,j\n",
    "k = np.random.randint(0,3)\n",
    "i = np.random.randint(0,3)\n",
    "j = np.random.randint(0,3)\n",
    "\n",
    "# call the add_row() function\n",
    "add_row(M, k, i, j) "
   ]
  },
  {
   "cell_type": "markdown",
   "id": "desirable-capital",
   "metadata": {},
   "source": [
    "write a function called scale_row which takes 3 input parameters $A$, $k$, and $i$ and returns the matrix that results from $k$ times row $i$ in the matrix $A$."
   ]
  },
  {
   "cell_type": "code",
   "execution_count": 132,
   "id": "liked-pearl",
   "metadata": {},
   "outputs": [],
   "source": [
    "def scale_row(M,k,i):\n",
    "    \"Multiply row i by k in matrix A.\"\n",
    "    n = M.shape[0]\n",
    "    E = np.eye(n)\n",
    "    E[i,i] = k\n",
    "    return E @ M"
   ]
  },
  {
   "cell_type": "code",
   "execution_count": 134,
   "id": "neutral-porcelain",
   "metadata": {},
   "outputs": [
    {
     "name": "stdout",
     "output_type": "stream",
     "text": [
      "[[25 34]\n",
      " [28 38]]\n"
     ]
    },
    {
     "data": {
      "text/plain": [
       "array([[ 25.,  34.],\n",
       "       [ 84., 114.]])"
      ]
     },
     "execution_count": 134,
     "metadata": {},
     "output_type": "execute_result"
    }
   ],
   "source": [
    "# M = np.array([[3,1],[-2,7]])\n",
    "M = np.random.randint(1,50,(2,2))\n",
    "print(M)\n",
    "\n",
    "i = 3\n",
    "j = 1\n",
    "scale_row(M, i, j)"
   ]
  },
  {
   "cell_type": "code",
   "execution_count": 136,
   "id": "sought-implement",
   "metadata": {},
   "outputs": [
    {
     "name": "stdout",
     "output_type": "stream",
     "text": [
      "[[1 2 5]\n",
      " [8 5 1]\n",
      " [5 7 3]]\n"
     ]
    },
    {
     "data": {
      "text/plain": [
       "array([[ 4.,  8., 20.],\n",
       "       [ 8.,  5.,  1.],\n",
       "       [ 5.,  7.,  3.]])"
      ]
     },
     "execution_count": 136,
     "metadata": {},
     "output_type": "execute_result"
    }
   ],
   "source": [
    "M = np.random.randint(1,10,(3,3))\n",
    "print(M)\n",
    "\n",
    "i = np.random.randint(5)\n",
    "j = np.random.randint(3)\n",
    "\n",
    "scale_row(M, i, j)"
   ]
  },
  {
   "cell_type": "markdown",
   "id": "shared-brown",
   "metadata": {},
   "source": [
    "function called switch_rows which takes 3 input parameters $A$, $i$ and $j$ and returns the matrix that results from switching rows $i$ and $j$ in the matrix $A$."
   ]
  },
  {
   "cell_type": "code",
   "execution_count": 131,
   "id": "responsible-locking",
   "metadata": {},
   "outputs": [],
   "source": [
    "def switch_rows(M,i,j):\n",
    "    \"Switch rows i and j in matrix A.\"\n",
    "    n = M.shape[0]\n",
    "    E = np.eye(n)\n",
    "    E[i,i] = 0\n",
    "    E[j,j] = 0\n",
    "    E[i,j] = 1\n",
    "    E[j,i] = 1\n",
    "    return E @ M"
   ]
  },
  {
   "cell_type": "code",
   "execution_count": 181,
   "id": "serial-access",
   "metadata": {},
   "outputs": [
    {
     "name": "stdout",
     "output_type": "stream",
     "text": [
      "[[0 1 2 3]\n",
      " [4 5 6 7]] : (2, 4)\n",
      "\n",
      " 1 : 0\n"
     ]
    },
    {
     "data": {
      "text/plain": [
       "array([[4., 5., 6., 7.],\n",
       "       [0., 1., 2., 3.]])"
      ]
     },
     "execution_count": 181,
     "metadata": {},
     "output_type": "execute_result"
    }
   ],
   "source": [
    "M= np.array([\n",
    "    np.arange(0,4),\n",
    "    np.arange(4,8)\n",
    "])\n",
    "print(M,\":\" ,M.shape) # show the rows, columns\n",
    "\n",
    "i = np.random.randint(2) # change the value and get an error\n",
    "j = np.random.randint(2)\n",
    "print('\\n',i,':',j)\n",
    "\n",
    "# call the switch_rows\n",
    "switch_rows(M,i,j)"
   ]
  },
  {
   "cell_type": "markdown",
   "id": "united-conspiracy",
   "metadata": {},
   "source": [
    "functions to the augmented matrix $[M \\ | \\ I]$ to find the inverse of the matrix $M$:"
   ]
  },
  {
   "cell_type": "code",
   "execution_count": 198,
   "id": "bigger-atmosphere",
   "metadata": {},
   "outputs": [
    {
     "name": "stdout",
     "output_type": "stream",
     "text": [
      "[[-4 -3 -2]\n",
      " [-7 -6 -5]\n",
      " [ 9 10 11]] : (3, 3)\n",
      "\n",
      " [[-4. -3. -2.  1.  0.  0.]\n",
      " [-7. -6. -5.  0.  1.  0.]\n",
      " [ 9. 10. 11.  0.  0.  1.]]\n"
     ]
    }
   ],
   "source": [
    "M= np.array([\n",
    "    np.arange(-4,-1),\n",
    "    np.arange(-7,-4),\n",
    "    np.arange(9,12)\n",
    "])\n",
    "print(M,\":\",M.shape) \n",
    "\n",
    "# hstack= horizontal stack\n",
    "#  adds identity matrix to existing matrix\n",
    "A = np.hstack([M , np.eye(3)])\n",
    "print('\\n',A)"
   ]
  },
  {
   "cell_type": "code",
   "execution_count": 206,
   "id": "sudden-procedure",
   "metadata": {},
   "outputs": [
    {
     "name": "stdout",
     "output_type": "stream",
     "text": [
      "\n",
      " [[-4. -3. -2.  1.  0.  0.]\n",
      " [-7. -6. -5.  0.  1.  0.]\n",
      " [ 9. 10. 11.  0.  0.  1.]]\n",
      "\n",
      " [[-7. -6. -5.  0.  1.  0.]\n",
      " [-4. -3. -2.  1.  0.  0.]\n",
      " [ 9. 10. 11.  0.  0.  1.]]\n"
     ]
    }
   ],
   "source": [
    "print('\\n',A)\n",
    "A1 = switch_rows(A,i,j)\n",
    "print('\\n',A1) "
   ]
  },
  {
   "cell_type": "code",
   "execution_count": 202,
   "id": "bottom-canadian",
   "metadata": {},
   "outputs": [
    {
     "name": "stdout",
     "output_type": "stream",
     "text": [
      "[[-11.  -9.  -7.   1.   1.   0.]\n",
      " [ -4.  -3.  -2.   1.   0.   0.]\n",
      " [  9.  10.  11.   0.   0.   1.]]\n"
     ]
    }
   ],
   "source": [
    "A2 = add_row(A1,i,j,k)\n",
    "print(A2)"
   ]
  },
  {
   "cell_type": "code",
   "execution_count": 204,
   "id": "derived-pollution",
   "metadata": {},
   "outputs": [
    {
     "name": "stdout",
     "output_type": "stream",
     "text": [
      "[[ -4.  -3.  -2.   1.   0.   0.]\n",
      " [-15. -12.  -9.   2.   1.   0.]\n",
      " [  9.  10.  11.   0.   0.   1.]]\n"
     ]
    }
   ],
   "source": [
    "A3 = add_row(A2,i,j,k)\n",
    "A4 = switch_rows(A3,i,j)\n",
    "print(A4)"
   ]
  },
  {
   "cell_type": "markdown",
   "id": "floral-cincinnati",
   "metadata": {},
   "source": [
    "functions to perform Gaussian elimination and solve a linear system of equations $A \\mathbf{x} = \\mathbf{b}$."
   ]
  },
  {
   "cell_type": "code",
   "execution_count": 222,
   "id": "played-anderson",
   "metadata": {},
   "outputs": [
    {
     "name": "stdout",
     "output_type": "stream",
     "text": [
      "[[ 6 15  1]\n",
      " [ 8  7 12]\n",
      " [ 2  7  8]]\n",
      "\n",
      " [[ 2]\n",
      " [14]\n",
      " [10]]\n"
     ]
    }
   ],
   "source": [
    "A = np.array([[6,15,1],[8,7,12],[2,7,8]])\n",
    "print(A)\n",
    "\n",
    "b = np.array([[2],[14],[10]])\n",
    "print('\\n',b) "
   ]
  },
  {
   "cell_type": "code",
   "execution_count": 223,
   "id": "fatal-politics",
   "metadata": {},
   "outputs": [
    {
     "name": "stdout",
     "output_type": "stream",
     "text": [
      "[[-0.12672176]\n",
      " [ 0.1046832 ]\n",
      " [ 1.19008264]]\n"
     ]
    }
   ],
   "source": [
    "x = la.solve(A,b)\n",
    "print(x)"
   ]
  },
  {
   "cell_type": "code",
   "execution_count": 224,
   "id": "radical-mediterranean",
   "metadata": {},
   "outputs": [
    {
     "name": "stdout",
     "output_type": "stream",
     "text": [
      "\n",
      " Adding b to A\n",
      " [[ 6 15  1  2]\n",
      " [ 8  7 12 14]\n",
      " [ 2  7  8 10]]\n",
      "\n",
      " [0.11467686]\n",
      "\n",
      " [[ 0.68806117  1.72015292  0.11467686]\n",
      " [ 8.          7.         12.        ]\n",
      " [ 2.          7.          8.        ]]\n"
     ]
    }
   ],
   "source": [
    "M = np.hstack([A,b])\n",
    "print('\\n Adding b to A\\n',M)\n",
    "\n",
    "f = np.random.randn(1)\n",
    "print('\\n',f)\n",
    "\n",
    "M1 = scale_row(A, f, j)\n",
    "print('\\n',M1)"
   ]
  },
  {
   "cell_type": "markdown",
   "id": "ordered-danger",
   "metadata": {},
   "source": [
    "mostly interested in linear systems $A \\mathbf{x} = \\mathbf{b}$ where there is a unique solution $\\mathbf{x}$. This is the case when $A$ is a square matrix ($m=n$) and $\\mathrm{det}(A) \\not= 0$. \n",
    "\n",
    "To solve such a system, we can use the function ``scipy.linalg.solve.``"
   ]
  },
  {
   "cell_type": "code",
   "execution_count": 226,
   "id": "preceding-admission",
   "metadata": {},
   "outputs": [
    {
     "name": "stdout",
     "output_type": "stream",
     "text": [
      "[[ 1  1]\n",
      " [ 1 -1]]\n",
      "\n",
      " [2 0]\n",
      "\n",
      " la.solve()\n",
      " [1. 1.]\n"
     ]
    }
   ],
   "source": [
    "A = np.array([[1,1],[1,-1]])\n",
    "print(A)\n",
    "\n",
    "b1 = np.array([2,0])\n",
    "print('\\n',b1)\n",
    "\n",
    "x1 = la.solve(A,b1)\n",
    "print('\\n la.solve()\\n',x1)"
   ]
  },
  {
   "cell_type": "markdown",
   "id": "intelligent-biography",
   "metadata": {},
   "source": [
    " If we input $\\mathbf{b}$ as a 2D NumPy array, then the output is a 2D NumPy array."
   ]
  },
  {
   "cell_type": "code",
   "execution_count": 227,
   "id": "sunrise-toner",
   "metadata": {},
   "outputs": [
    {
     "name": "stdout",
     "output_type": "stream",
     "text": [
      "[[1.]\n",
      " [1.]]\n"
     ]
    }
   ],
   "source": [
    "A = np.array([[1,1],[1,-1]])\n",
    "b2 = np.array([2,0]).reshape(2,1)\n",
    "x2 = la.solve(A,b2)\n",
    "print(x2)"
   ]
  },
  {
   "cell_type": "markdown",
   "id": "searching-biography",
   "metadata": {},
   "source": [
    "compute the solution of the system of equations\n",
    "\n",
    "\\begin{align} 2x + y &= 1 \\\\ x + y &= 1 \\end{align}\n",
    "\n",
    "Create the matrix of coefficients:"
   ]
  },
  {
   "cell_type": "code",
   "execution_count": 231,
   "id": "sweet-float",
   "metadata": {},
   "outputs": [
    {
     "name": "stdout",
     "output_type": "stream",
     "text": [
      "[[2 1]\n",
      " [1 1]]\n",
      "\n",
      " [[ 1]\n",
      " [-1]]\n",
      "\n",
      " la.solve()\n",
      " [[ 2.]\n",
      " [-3.]]\n",
      "\n",
      " inverse\n",
      " [[ 1. -1.]\n",
      " [-1.  2.]]\n",
      "\n",
      " A inverse\n",
      " [[ 2.]\n",
      " [-3.]]\n"
     ]
    }
   ],
   "source": [
    "A = np.array([[2,1],[1,1]])\n",
    "print(A)\n",
    "\n",
    "# vector\n",
    "b = np.array([1,-1]).reshape(2,1)\n",
    "print('\\n',b)\n",
    "\n",
    "# la.solve() \n",
    "x = la.solve(A,b)\n",
    "print('\\n la.solve()\\n',x)\n",
    "\n",
    "# inverse\n",
    "Ainv = la.inv(A)\n",
    "print('\\n inverse\\n',Ainv)\n",
    "\n",
    "# multiply A inverse to solve x\n",
    "x = Ainv @ b\n",
    "print('\\n A inverse\\n',x)"
   ]
  },
  {
   "cell_type": "markdown",
   "id": "surface-hospital",
   "metadata": {},
   "source": [
    "It's a bad idea to use the inverse $A^{-1}$ to solve $A \\mathbf{x} = \\mathbf{b}$ if $A$ is large. It's too computationally expensive. Let's create a large random matrix $A$ and vector $\\mathbf{b}$ and compute the solution\n",
    "\n",
    "USE ``scipy.linalg.solve`` "
   ]
  },
  {
   "cell_type": "code",
   "execution_count": null,
   "id": "silver-tamil",
   "metadata": {},
   "outputs": [],
   "source": []
  },
  {
   "cell_type": "code",
   "execution_count": null,
   "id": "impaired-platinum",
   "metadata": {},
   "outputs": [],
   "source": []
  }
 ],
 "metadata": {
  "kernelspec": {
   "display_name": "Python 3",
   "language": "python",
   "name": "python3"
  },
  "language_info": {
   "codemirror_mode": {
    "name": "ipython",
    "version": 3
   },
   "file_extension": ".py",
   "mimetype": "text/x-python",
   "name": "python",
   "nbconvert_exporter": "python",
   "pygments_lexer": "ipython3",
   "version": "3.7.4"
  }
 },
 "nbformat": 4,
 "nbformat_minor": 5
}
