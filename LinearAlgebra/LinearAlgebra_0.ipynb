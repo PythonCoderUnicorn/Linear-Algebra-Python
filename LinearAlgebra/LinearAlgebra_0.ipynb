{
 "cells": [
  {
   "cell_type": "markdown",
   "id": "professional-single",
   "metadata": {},
   "source": [
    "# **Linear Algebra** using SciPy"
   ]
  },
  {
   "cell_type": "markdown",
   "id": "polished-budget",
   "metadata": {},
   "source": [
    "This is a tutorial from *University of British Columbia*\n",
    "\n",
    "<a href=\"https://www.math.ubc.ca/~pwalls/math-python/linear-algebra/linear-algebra-scipy/\"> Linear Algebra with SciPy</a>\n",
    "\n",
    "- *Images are not part of the tutorial*"
   ]
  },
  {
   "cell_type": "markdown",
   "id": "future-vatican",
   "metadata": {},
   "source": [
    "![matrix](matrix-banner.png)"
   ]
  },
  {
   "cell_type": "code",
   "execution_count": 1,
   "id": "trained-oakland",
   "metadata": {},
   "outputs": [],
   "source": [
    "import numpy as np\n",
    "import scipy.linalg as la"
   ]
  },
  {
   "cell_type": "markdown",
   "id": "optional-campbell",
   "metadata": {},
   "source": [
    "## NumPy Arrays\n",
    "\n",
    "- 1D is like a list [ ]\n",
    "- 2D is a latrix\n",
    "- 3D is a cube of numbers {rubix cube}"
   ]
  },
  {
   "cell_type": "code",
   "execution_count": 9,
   "id": "potential-surname",
   "metadata": {},
   "outputs": [
    {
     "name": "stdout",
     "output_type": "stream",
     "text": [
      "1D: [1 2 3 4 5 6 7 8 9]\n",
      "Dimension: 1\n",
      "Shape: (9,)\n"
     ]
    }
   ],
   "source": [
    "# 1D array, a range of numbers 1 to 9\n",
    "arr1 = np.arange(1,10)\n",
    "print(f'1D: {arr1}')\n",
    "\n",
    "# get the dimension\n",
    "print(f'Dimension: {arr1.ndim}')\n",
    "\n",
    "# get the shape of array, \n",
    "# returns (rows, columns)\n",
    "print(f'Shape: {arr1.shape}')"
   ]
  },
  {
   "cell_type": "code",
   "execution_count": 32,
   "id": "sonic-marina",
   "metadata": {},
   "outputs": [
    {
     "name": "stdout",
     "output_type": "stream",
     "text": [
      "Matrix: \n",
      "[[8 2]\n",
      " [1 4]\n",
      " [3 5]]\n",
      "\n",
      "Dimension: 2\n",
      "Shape: (3, 2)\n",
      "Number of elements in array: 6\n"
     ]
    }
   ],
   "source": [
    "# 2D array / Matrix\n",
    "matrx = np.array([\n",
    "    [np.random.randint(10), np.random.randint(10)],\n",
    "    [np.random.randint(10), np.random.randint(10)],\n",
    "    [np.random.randint(10), np.random.randint(10)]\n",
    "])\n",
    "print(f'Matrix: \\n{matrx}')\n",
    "\n",
    "print(f'\\nDimension: {matrx.ndim}')\n",
    "print(f'Shape: {matrx.shape}')\n",
    "print(f'Number of elements in array: {matrx.size}')"
   ]
  },
  {
   "cell_type": "markdown",
   "id": "theoretical-windsor",
   "metadata": {},
   "source": [
    "column slice"
   ]
  },
  {
   "cell_type": "code",
   "execution_count": 42,
   "id": "atomic-latvia",
   "metadata": {},
   "outputs": [
    {
     "name": "stdout",
     "output_type": "stream",
     "text": [
      "matrix: \n",
      "[[8 2]\n",
      " [1 4]\n",
      " [3 5]]\n",
      "\n",
      "column 1: [2 4 5]\n",
      "Shape: (3,)\n",
      "Dimension: 1\n",
      "Size: 6\n"
     ]
    }
   ],
   "source": [
    "print(f'matrix: \\n{matrx}\\n')\n",
    "\n",
    "# get column 1 (not the 1st column) by slicing\n",
    "col = matrx[:,1]\n",
    "print(f'column 1: {col}')\n",
    "print(f'Shape: {col.shape}')\n",
    "print(f'Dimension: {col.ndim}')\n",
    "print(f'Size: {matrx.size}')"
   ]
  },
  {
   "cell_type": "markdown",
   "id": "determined-catalyst",
   "metadata": {},
   "source": [
    "reshape the column using ``reshape(r,c)``"
   ]
  },
  {
   "cell_type": "code",
   "execution_count": 45,
   "id": "surrounded-backing",
   "metadata": {},
   "outputs": [
    {
     "name": "stdout",
     "output_type": "stream",
     "text": [
      "column 1: [2 4 5]\n",
      "\n",
      "[[2]\n",
      " [4]\n",
      " [5]]\n"
     ]
    }
   ],
   "source": [
    "# as is column\n",
    "print(f'column 1: {col}\\n')\n",
    "\n",
    "# reshaped column\n",
    "print(col.reshape(3,1)) "
   ]
  },
  {
   "cell_type": "markdown",
   "id": "graduate-piece",
   "metadata": {},
   "source": [
    "## Level Up: Matrix Operations and Functions\n",
    "- image not part of tutorial\n",
    "![image not part of tutorial](matrix-ops.jpg)"
   ]
  },
  {
   "cell_type": "code",
   "execution_count": 53,
   "id": "starting-documentary",
   "metadata": {},
   "outputs": [
    {
     "name": "stdout",
     "output_type": "stream",
     "text": [
      "[[4 0]\n",
      " [4 4]]\n",
      "\n",
      " M*M \n",
      " [[16  0]\n",
      " [16 16]]\n"
     ]
    }
   ],
   "source": [
    "M = np.array([\n",
    "    [np.random.randint(7), np.random.randint(7)],\n",
    "    [np.random.randint(7), np.random.randint(7)]\n",
    "])\n",
    "print(M)\n",
    "\n",
    "# multiply a matrix by itself\n",
    "print('\\n M*M \\n', M*M)"
   ]
  },
  {
   "cell_type": "markdown",
   "id": "floating-district",
   "metadata": {},
   "source": [
    "## The next level: matrix multiplication using ``@``"
   ]
  },
  {
   "cell_type": "code",
   "execution_count": 54,
   "id": "challenging-buying",
   "metadata": {},
   "outputs": [
    {
     "data": {
      "text/plain": [
       "array([[16,  0],\n",
       "       [32, 16]])"
      ]
     },
     "execution_count": 54,
     "metadata": {},
     "output_type": "execute_result"
    }
   ],
   "source": [
    "M@M"
   ]
  },
  {
   "cell_type": "markdown",
   "id": "innocent-maker",
   "metadata": {},
   "source": [
    "**NumPy** has identity matrix ``np.eye(n)`` for easy identity matrix\n",
    "- $n$ is the size of rows and columns"
   ]
  },
  {
   "cell_type": "markdown",
   "id": "occasional-christianity",
   "metadata": {},
   "source": [
    "Note: $2I$ is **identity matrix** of size 2\n",
    "\n",
    "Let's compute $2I + 3A - AB$ for\n",
    "\n",
    "$$ A = \\begin{bmatrix} 1 & 3 \\\\ -1 & 7 \\end{bmatrix} \\ \\ \\ \\ B = \\begin{bmatrix} 5 & 2 \\\\ 1 & 2 \\end{bmatrix} $$"
   ]
  },
  {
   "cell_type": "code",
   "execution_count": 62,
   "id": "exceptional-trigger",
   "metadata": {},
   "outputs": [
    {
     "name": "stdout",
     "output_type": "stream",
     "text": [
      "Matrix A:\n",
      " [[ 1  3]\n",
      " [-1  7]]\n",
      "\n",
      "Matrix B:\n",
      " [[5 2]\n",
      " [1 2]]\n",
      "\n",
      "Identity: \n",
      " [[1. 0.]\n",
      " [0. 1.]]\n"
     ]
    }
   ],
   "source": [
    "A = np.array([[1,3],[-1,7]])\n",
    "B = np.array([[5,2],[1,2]])\n",
    "I = np.eye(2)\n",
    "\n",
    "print('Matrix A:\\n',A)\n",
    "print('\\nMatrix B:\\n',B)\n",
    "print('\\nIdentity: \\n', I)"
   ]
  },
  {
   "cell_type": "code",
   "execution_count": 64,
   "id": "blond-praise",
   "metadata": {},
   "outputs": [
    {
     "data": {
      "text/plain": [
       "array([[-3.,  1.],\n",
       "       [-5., 11.]])"
      ]
     },
     "execution_count": 64,
     "metadata": {},
     "output_type": "execute_result"
    }
   ],
   "source": [
    "# now do the calculations\n",
    "2*I + 3*A - A@B"
   ]
  },
  {
   "cell_type": "markdown",
   "id": "rational-hamburg",
   "metadata": {},
   "source": [
    "## Level Up: Matrix **POWERS** ``matrix_power``"
   ]
  },
  {
   "cell_type": "code",
   "execution_count": 86,
   "id": "composite-eating",
   "metadata": {},
   "outputs": [
    {
     "name": "stdout",
     "output_type": "stream",
     "text": [
      "Matrix:\n",
      "[[9 1]\n",
      " [4 7]]\n",
      "\n",
      "Matrix POWER!:\n",
      "[[85 16]\n",
      " [64 53]]\n"
     ]
    }
   ],
   "source": [
    "from numpy.linalg import matrix_power as mpow\n",
    "\n",
    "# for laziness, elements for matrix\n",
    "e1 = np.random.randint(10)\n",
    "e2 = np.random.randint(10)\n",
    "e3 = np.random.randint(10)\n",
    "e4 = np.random.randint(10)\n",
    "\n",
    "# create a matrix with elements\n",
    "M = np.array([\n",
    "    [e1,e2],\n",
    "    [e3,e4],\n",
    "])\n",
    "print(f'Matrix:\\n{M}')\n",
    "# matrix^2\n",
    "print(f'\\nMatrix POWER!:\\n{mpow(M,2)}')"
   ]
  },
  {
   "cell_type": "code",
   "execution_count": 87,
   "id": "virtual-prague",
   "metadata": {},
   "outputs": [
    {
     "name": "stdout",
     "output_type": "stream",
     "text": [
      "[[9 1]\n",
      " [4 7]]\n",
      "\n",
      "Matrix POWER!:\n",
      "[[83073 23705]\n",
      " [94820 35663]]\n"
     ]
    }
   ],
   "source": [
    "print(M)\n",
    "# matrix^5\n",
    "print(f'\\nMatrix POWER!:\\n{mpow(M,5)}')"
   ]
  },
  {
   "cell_type": "code",
   "execution_count": 90,
   "id": "parliamentary-cinema",
   "metadata": {},
   "outputs": [
    {
     "data": {
      "text/plain": [
       "array([[83073, 23705],\n",
       "       [94820, 35663]])"
      ]
     },
     "execution_count": 90,
     "metadata": {},
     "output_type": "execute_result"
    }
   ],
   "source": [
    "# inefficient method of matrix power\n",
    "M @ M @ M @ M @ M"
   ]
  },
  {
   "cell_type": "markdown",
   "id": "graduate-guitar",
   "metadata": {},
   "source": [
    "## Next Level: **Transpose** a matrix  ``.T``"
   ]
  },
  {
   "cell_type": "code",
   "execution_count": 93,
   "id": "golden-highland",
   "metadata": {},
   "outputs": [
    {
     "name": "stdout",
     "output_type": "stream",
     "text": [
      "[[9 1]\n",
      " [4 7]] \n",
      "\n",
      "Transposed\n",
      " [[9 4]\n",
      " [1 7]]\n"
     ]
    }
   ],
   "source": [
    "print(M,'\\n')\n",
    "\n",
    "print('Transposed\\n', M.T)"
   ]
  },
  {
   "cell_type": "markdown",
   "id": "sorted-policy",
   "metadata": {},
   "source": [
    "## Next level:  Inverse a matrix\n",
    "- ``scipy.linalg.inv``"
   ]
  },
  {
   "cell_type": "code",
   "execution_count": 99,
   "id": "spread-amplifier",
   "metadata": {},
   "outputs": [
    {
     "name": "stdout",
     "output_type": "stream",
     "text": [
      "matrix A: \n",
      "[[ 1  3]\n",
      " [-1  7]]\n",
      "\n",
      "matrix la.inv(A) : \n",
      "[[ 0.7 -0.3]\n",
      " [ 0.1  0.1]]\n"
     ]
    }
   ],
   "source": [
    "print(f'matrix A: \\n{A}\\n')\n",
    "print(f'matrix la.inv(A) : \\n{la.inv(A)}')"
   ]
  },
  {
   "cell_type": "markdown",
   "id": "ranking-blake",
   "metadata": {},
   "source": [
    "## Next Level: Trace ``np.trace``\n",
    "\n",
    "- A trace is defined to be the sum of elements on the main diagonal (from the upper left to the lower right) of A."
   ]
  },
  {
   "cell_type": "code",
   "execution_count": 105,
   "id": "upset-prototype",
   "metadata": {},
   "outputs": [
    {
     "name": "stdout",
     "output_type": "stream",
     "text": [
      "matrix A: \n",
      "[[ 1  3]\n",
      " [-1  7]]\n",
      "\n",
      "matrix np.trace(A): 8\n"
     ]
    }
   ],
   "source": [
    "print(f'matrix A: \\n{A}\\n')\n",
    "print(f'matrix np.trace(A): {np.trace(A)}')"
   ]
  },
  {
   "cell_type": "markdown",
   "id": "stock-bermuda",
   "metadata": {},
   "source": [
    "## Level Up: Determinant ``scipy.linalg.det``\n",
    "\n",
    "\\begin{aligned}|A|={\\begin{vmatrix}a&b\\\\c&d\\end{vmatrix}}=ad-bc.\\end{aligned}\n",
    "\n",
    "Determinant is a scalar value that is a function of the entries of a square matrix.  \n",
    "The determinant is nonzero if and only if the matrix is invertible."
   ]
  },
  {
   "cell_type": "code",
   "execution_count": 106,
   "id": "pressed-theory",
   "metadata": {},
   "outputs": [
    {
     "name": "stdout",
     "output_type": "stream",
     "text": [
      "matrix A: \n",
      "[[ 1  3]\n",
      " [-1  7]]\n",
      "\n",
      "matrix la.det(A) : \n",
      "10.0\n"
     ]
    }
   ],
   "source": [
    "print(f'matrix A: \\n{A}\\n')\n",
    "print(f'matrix la.det(A) : \\n{la.det(A)}')"
   ]
  },
  {
   "cell_type": "markdown",
   "id": "metallic-christmas",
   "metadata": {},
   "source": [
    "## Polynomials and Cayley-Hamilton Theorem "
   ]
  },
  {
   "cell_type": "markdown",
   "id": "authorized-deposit",
   "metadata": {},
   "source": [
    "Characteristic Polynomials and Cayley-Hamilton Theorem\n",
    "The characteristic polynomial of a 2 by 2 square matrix $A$ is\n",
    "\n",
    "$$ p_A(\\lambda) = \\det(A - \\lambda I) = \\lambda^2 - \\mathrm{tr}(A) \\lambda + \\mathrm{det}(A) $$\n",
    "\n",
    "The Cayley-Hamilton Theorem states that any square matrix satisfies its characteristic polynomial. For a matrix $A$ of size 2, this means that\n",
    "\n",
    "$$ p_A(A) = A^2 - \\mathrm{tr}(A) A + \\mathrm{det}(A) I = 0 $$"
   ]
  },
  {
   "cell_type": "code",
   "execution_count": 116,
   "id": "vocational-trauma",
   "metadata": {},
   "outputs": [
    {
     "name": "stdout",
     "output_type": "stream",
     "text": [
      "trace A  8 \n",
      "det_A  10.0 \n",
      "I\n",
      " [[1. 0.]\n",
      " [0. 1.]]\n",
      "\n",
      " [[0. 0.]\n",
      " [0. 0.]]\n"
     ]
    }
   ],
   "source": [
    "trace_A = np.trace(A)\n",
    "print('trace A ',trace_A,'')\n",
    "\n",
    "det_A = la.det(A)\n",
    "print('det_A ',det_A,'')\n",
    "\n",
    "I = np.eye(2)\n",
    "print('I\\n',I)\n",
    "\n",
    "CHT = A @ A - trace_A * A + det_A * I\n",
    "print('\\n',CHT)"
   ]
  },
  {
   "cell_type": "markdown",
   "id": "running-bridges",
   "metadata": {},
   "source": [
    "This concludes this lesson. "
   ]
  },
  {
   "cell_type": "code",
   "execution_count": null,
   "id": "blocked-weather",
   "metadata": {},
   "outputs": [],
   "source": []
  },
  {
   "cell_type": "code",
   "execution_count": null,
   "id": "otherwise-carry",
   "metadata": {},
   "outputs": [],
   "source": []
  },
  {
   "cell_type": "code",
   "execution_count": null,
   "id": "simplified-fifth",
   "metadata": {},
   "outputs": [],
   "source": []
  },
  {
   "cell_type": "code",
   "execution_count": null,
   "id": "opponent-competition",
   "metadata": {},
   "outputs": [],
   "source": []
  },
  {
   "cell_type": "code",
   "execution_count": null,
   "id": "similar-state",
   "metadata": {},
   "outputs": [],
   "source": []
  }
 ],
 "metadata": {
  "kernelspec": {
   "display_name": "Python 3",
   "language": "python",
   "name": "python3"
  },
  "language_info": {
   "codemirror_mode": {
    "name": "ipython",
    "version": 3
   },
   "file_extension": ".py",
   "mimetype": "text/x-python",
   "name": "python",
   "nbconvert_exporter": "python",
   "pygments_lexer": "ipython3",
   "version": "3.7.4"
  }
 },
 "nbformat": 4,
 "nbformat_minor": 5
}
