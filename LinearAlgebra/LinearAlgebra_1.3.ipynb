{
 "cells": [
  {
   "cell_type": "markdown",
   "id": "severe-mistake",
   "metadata": {},
   "source": [
    "# Linear Algebra in Python"
   ]
  },
  {
   "cell_type": "markdown",
   "id": "joined-throw",
   "metadata": {},
   "source": [
    "This is part of a tutorial from *University of British Columbia*\n",
    "<a href=\"https://www.math.ubc.ca/~pwalls/math-python/linear-algebra/eigenvalues-eigenvectors/\"> Eigenvalues</a>"
   ]
  },
  {
   "cell_type": "markdown",
   "id": "domestic-switch",
   "metadata": {},
   "source": [
    "## **Eigenvalues & Eigenvectors**"
   ]
  },
  {
   "cell_type": "code",
   "execution_count": 1,
   "id": "educational-interim",
   "metadata": {},
   "outputs": [],
   "source": [
    "import numpy as np\n",
    "import matplotlib.pyplot as plt\n",
    "import scipy.linalg as la"
   ]
  },
  {
   "cell_type": "markdown",
   "id": "olympic-tactics",
   "metadata": {},
   "source": [
    "Definition:\n",
    "\n",
    "Let $A$ be a square matrix. A non-zero vector $\\mathbf{v}$ is an eigenvector for $A$ with eigenvalue $\\lambda$ if\n",
    "\n",
    "$$ A\\mathbf{v} = \\lambda \\mathbf{v} $$\n",
    "\n",
    "Rearranging the equation, we see that $\\mathbf{v}$ is a solution of the homogeneous system of equations\n",
    "\n",
    "$$ \\left( A - \\lambda I \\right) \\mathbf{v} = \\mathbf{0} $$\n",
    "\n",
    "where $I$ is the identity matrix of size $n$. Non-trivial solutions exist only if the matrix $A - \\lambda I$ is singular which means $\\mathrm{det}(A - \\lambda I) = 0$. Therefore eigenvalues of $A$ are roots of the characteristic polynomial\n",
    "\n",
    "$$ p(\\lambda) = \\mathrm{det}(A - \\lambda I) $$"
   ]
  },
  {
   "cell_type": "markdown",
   "id": "spectacular-volleyball",
   "metadata": {},
   "source": [
    "### *Diagonal matrix* and ``la.eig()``\n",
    "- The function la.eig returns a tuple (eigvals,eigvecs) where eigvals is a 1D NumPy array of complex numbers giving the eigenvalues of A \n",
    "- eigvecs is a 2D NumPy array with the corresponding eigenvectors in the columns"
   ]
  },
  {
   "cell_type": "code",
   "execution_count": 53,
   "id": "narrative-string",
   "metadata": {},
   "outputs": [
    {
     "name": "stdout",
     "output_type": "stream",
     "text": [
      "[[4 3]\n",
      " [4 5]] \n",
      "\n",
      "Eigenvalues: \n",
      "[1.+0.j 8.+0.j]\n",
      "\n",
      "Eigenvectors: \n",
      "[[-0.70710678 -0.6       ]\n",
      " [ 0.70710678 -0.8       ]]\n",
      "\n"
     ]
    }
   ],
   "source": [
    "A = np.array([\n",
    "    [np.random.randint(6), np.random.randint(6)],\n",
    "    [np.random.randint(6), np.random.randint(6)] \n",
    "])\n",
    "print(A,'\\n')\n",
    "\n",
    "# eigen\n",
    "eig = la.eig(A)\n",
    "print(f'Eigenvalues: \\n{eig[0]}\\n')\n",
    "print(f'Eigenvectors: \\n{eig[1]}\\n')"
   ]
  },
  {
   "cell_type": "markdown",
   "id": "novel-helicopter",
   "metadata": {},
   "source": [
    "IF eigenvalues are Real, Then you can use the ``.real`` tp convert eigenvalues to real numbers"
   ]
  },
  {
   "cell_type": "code",
   "execution_count": 54,
   "id": "expired-startup",
   "metadata": {},
   "outputs": [
    {
     "name": "stdout",
     "output_type": "stream",
     "text": [
      "[1. 8.]\n",
      "1.0\n"
     ]
    }
   ],
   "source": [
    "eigvals, eigvecs = la.eig(A)\n",
    "eigvals = eigvals.real\n",
    "\n",
    "print(eigvals)\n",
    "egg1 = eigvals[0]\n",
    "print(egg1)"
   ]
  },
  {
   "cell_type": "code",
   "execution_count": 55,
   "id": "interracial-compromise",
   "metadata": {},
   "outputs": [
    {
     "name": "stdout",
     "output_type": "stream",
     "text": [
      "\n",
      " Eigenvectors\n",
      " [[-0.70710678 -0.6       ]\n",
      " [ 0.70710678 -0.8       ]]\n",
      "\n",
      " v[: ,1]\n",
      " [-0.6 -0.8]\n",
      "\n",
      " v[:,1].reshape\n",
      " [[-0.6]\n",
      " [-0.8]]\n"
     ]
    }
   ],
   "source": [
    "# print out the eigenvectors\n",
    "print('\\n Eigenvectors\\n',eigvecs)\n",
    "# \n",
    "v1 = eigvecs[:,1] # get just column 1\n",
    "print('\\n v[: ,1]\\n',v1)\n",
    "\n",
    "# reshape column 1\n",
    "v1 = eigvecs[:,1].reshape(2,1)\n",
    "print('\\n v[:,1].reshape\\n',v1)"
   ]
  },
  {
   "cell_type": "code",
   "execution_count": 56,
   "id": "impressed-helena",
   "metadata": {},
   "outputs": [
    {
     "name": "stdout",
     "output_type": "stream",
     "text": [
      "[[4 3]\n",
      " [4 5]]\n",
      "\n",
      " v[:,1].reshape\n",
      " [[-0.6]\n",
      " [-0.8]]\n",
      "\n",
      "Multiplication A@v1 \n",
      "[[-4.8]\n",
      " [-6.4]]\n"
     ]
    }
   ],
   "source": [
    "print(A)\n",
    "print('\\n v[:,1].reshape\\n',v1)\n",
    "\n",
    "print(f'\\nMultiplication A@v1 \\n{ A@v1 }')"
   ]
  },
  {
   "cell_type": "markdown",
   "id": "engaging-facing",
   "metadata": {},
   "source": [
    "## Symmetric Matrix\n",
    "\n",
    "- symmetric matrix Eigenvalues are *always real* and *always orthogonal* "
   ]
  },
  {
   "cell_type": "code",
   "execution_count": 110,
   "id": "settled-aquatic",
   "metadata": {},
   "outputs": [
    {
     "name": "stdout",
     "output_type": "stream",
     "text": [
      "w\n",
      "[[2 1 5]\n",
      " [3 5 5]\n",
      " [2 4 4]] \n",
      "\n",
      "Transpose: \n",
      "[[2 3 2]\n",
      " [1 5 4]\n",
      " [5 5 4]],\n",
      "\n",
      "w@w.T \n",
      " [[30 36 28]\n",
      " [36 59 46]\n",
      " [28 46 36]]\n"
     ]
    }
   ],
   "source": [
    "n = np.random.randint(1,6)\n",
    "w= np.random.randint(1,6,(n,n))\n",
    "print(f'w\\n{w}','\\n')\n",
    "\n",
    "print(f'Transpose: \\n{w.T},\\n')\n",
    "\n",
    "# symmetrix matrix, with Transpose\n",
    "symM = w@w.T\n",
    "print(f'w@w.T \\n {symM}')"
   ]
  },
  {
   "cell_type": "code",
   "execution_count": 115,
   "id": "educated-forty",
   "metadata": {},
   "outputs": [
    {
     "name": "stdout",
     "output_type": "stream",
     "text": [
      "eigenvalues.real: [10.59948562  0.20025719  0.20025719]\n",
      "eigenvectors.real \n",
      " [[ 0.40955697 -0.88099884 -0.88099884]\n",
      " [ 0.71985159  0.22361284  0.22361284]\n",
      " [ 0.56042554  0.2723917   0.2723917 ]]\n"
     ]
    }
   ],
   "source": [
    "# get the eigenvalues, vectors \n",
    "evals, evects = la.eig(w)\n",
    "\n",
    "# use the .real to drop the complex values\n",
    "print(f'eigenvalues.real: {evals.real}')\n",
    "\n",
    "print(f'eigenvectors.real \\n {evects.real}')"
   ]
  },
  {
   "cell_type": "code",
   "execution_count": 117,
   "id": "bulgarian-request",
   "metadata": {},
   "outputs": [
    {
     "name": "stdout",
     "output_type": "stream",
     "text": [
      "v1: [0.40955697 0.71985159 0.56042554]\n",
      "v2: [-0.88099884  0.22361284  0.2723917 ]\n",
      "v1@v2: \n",
      "-0.047195896188857445\n"
     ]
    }
   ],
   "source": [
    "# orthogonal check\n",
    "v1 = evects[:,0]\n",
    "print(f'v1: {v1.real}')\n",
    "v2 = evects[:,1]\n",
    "print(f'v2: {v2.real}')\n",
    "\n",
    "# the @\n",
    "vm = v1@v2\n",
    "print(f'v1@v2: \\n{vm.real}')"
   ]
  },
  {
   "cell_type": "markdown",
   "id": "every-tuesday",
   "metadata": {},
   "source": [
    "## Diagonals ``np.diag(r,c)``\n",
    "\n",
    "A square matrix $M$ is diagonalizable if it is similar to a diagonal matrix. In other words, $M$ is diagonalizable if there exists an invertible matrix $P$ such that $D = P^{-1}MP$ is a diagonal matrix.\n",
    "\n",
    "A beautiful result in linear algebra is that a square matrix $M$ of size $n$ is diagonalizable if and only if $M$ has $n$ independent eigevectors. Furthermore, $M = PDP^{-1}$ where the columns of $P$ are the eigenvectors of $M$ and $D$ has corresponding eigenvalues along the diagonal.\n",
    "\n",
    "Let's use this to construct a matrix with given eigenvalues $\\lambda_1 = 3, \\lambda_2 = 1$, and eigenvectors $v_1 = [1,1]^T, v_2 = [1,-1]^T$."
   ]
  },
  {
   "cell_type": "code",
   "execution_count": 134,
   "id": "corresponding-figure",
   "metadata": {},
   "outputs": [
    {
     "name": "stdout",
     "output_type": "stream",
     "text": [
      "[[ 1  1]\n",
      " [ 1 -1]]\n",
      "\n",
      "inv(h)\n",
      "[[ 0.5  0.5]\n",
      " [ 0.5 -0.5]]\n",
      "\n",
      " np.diag():\n",
      "[[3 0]\n",
      " [0 1]]\n",
      "\n",
      " [[2. 1.]\n",
      " [1. 2.]]\n"
     ]
    }
   ],
   "source": [
    "h = np.array([\n",
    "    [1,1],[1,-1]])\n",
    "print(h)\n",
    "\n",
    "print(f'\\ninv(h)\\n{la.inv(h)}')\n",
    "\n",
    "d = np.diag((3,1))\n",
    "print(f'\\n np.diag():\\n{d}')\n",
    "\n",
    "M = h @ d @ la.inv(h)\n",
    "print('\\n',M)"
   ]
  },
  {
   "cell_type": "markdown",
   "id": "promising-contest",
   "metadata": {},
   "source": [
    "### *trust* **but verify** that eigenvalues are *M* are 3 and 1"
   ]
  },
  {
   "cell_type": "code",
   "execution_count": 136,
   "id": "funny-links",
   "metadata": {},
   "outputs": [
    {
     "name": "stdout",
     "output_type": "stream",
     "text": [
      "[3. 1.]\n",
      "[[ 0.70710678 -0.70710678]\n",
      " [ 0.70710678  0.70710678]]\n"
     ]
    }
   ],
   "source": [
    "evals, evecs = la.eig(M)\n",
    "print(evals.real)\n",
    "print(evecs.real)"
   ]
  },
  {
   "cell_type": "code",
   "execution_count": null,
   "id": "distant-motorcycle",
   "metadata": {},
   "outputs": [],
   "source": []
  }
 ],
 "metadata": {
  "kernelspec": {
   "display_name": "Python 3",
   "language": "python",
   "name": "python3"
  },
  "language_info": {
   "codemirror_mode": {
    "name": "ipython",
    "version": 3
   },
   "file_extension": ".py",
   "mimetype": "text/x-python",
   "name": "python",
   "nbconvert_exporter": "python",
   "pygments_lexer": "ipython3",
   "version": "3.7.4"
  }
 },
 "nbformat": 4,
 "nbformat_minor": 5
}
